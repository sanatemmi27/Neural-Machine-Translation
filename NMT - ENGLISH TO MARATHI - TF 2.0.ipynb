{
 "cells": [
  {
   "cell_type": "code",
   "execution_count": 1,
   "metadata": {},
   "outputs": [
    {
     "name": "stdout",
     "output_type": "stream",
     "text": [
      "The Tensorflow version is : 1.14.0\n"
     ]
    }
   ],
   "source": [
    "from __future__ import absolute_import, print_function, division, unicode_literals\n",
    "import warnings\n",
    "warnings.filterwarnings(\"ignore\")\n",
    "\n",
    "import tensorflow as tf\n",
    "\n",
    "import matplotlib.pyplot as plt\n",
    "from tqdm import tqdm_notebook\n",
    "import numpy as np\n",
    "import os\n",
    "import unicodedata\n",
    "import re\n",
    "import time\n",
    "import string\n",
    "\n",
    "print(f\"The Tensorflow version is : {tf.__version__}\")"
   ]
  },
  {
   "cell_type": "code",
   "execution_count": 9,
   "metadata": {},
   "outputs": [],
   "source": [
    "#load the dataset\n",
    "path_to_file = \"F:/datasets/TENSORFLOW 2.0 PRACTICE/mar.txt\"\n",
    "data = open(path_to_file, encoding = \"utf-8\").read().strip()"
   ]
  },
  {
   "cell_type": "code",
   "execution_count": 10,
   "metadata": {},
   "outputs": [],
   "source": [
    "#once the dataset has been loaded. we will proceed to perform some preprocessing\n",
    "def unicode_to_ascii(text):\n",
    "    return \"\".join(c for c in unicodedata.normalize(\"NFD\", text) if unicodedata.category(c) != \"Mn\")"
   ]
  },
  {
   "cell_type": "code",
   "execution_count": 11,
   "metadata": {},
   "outputs": [
    {
     "data": {
      "text/plain": [
       "'मितर नहमीच एकमकाची मदत करायला राजी असतात.'"
      ]
     },
     "execution_count": 11,
     "metadata": {},
     "output_type": "execute_result"
    }
   ],
   "source": [
    "sample_mar = unicode_to_ascii(\"मित्रं नेहमीच एकमेकांची मदत करायला राजी असतात.\")\n",
    "sample_mar"
   ]
  },
  {
   "cell_type": "code",
   "execution_count": 12,
   "metadata": {},
   "outputs": [],
   "source": [
    "def preprocessing_sentences(text):\n",
    "    \n",
    "    #lower case the words\n",
    "    lang = text.lower().strip() \n",
    "    \n",
    "    #remove the punctuations\n",
    "    lang = \"\".join([ch for ch in lang if ch not in set(string.punctuation)])\n",
    "    \n",
    "    #remove the quotes\n",
    "    lang = re.sub(r\"'\", \"\", lang)\n",
    "    \n",
    "    #if text is marathi remove the marathi numbers\n",
    "    lang = re.sub(r\"[२३०८१५७९४६]\", \"\", lang)\n",
    "    \n",
    "    #add start and end token\n",
    "    lang = \"<start> \" + lang + \" <end>\"\n",
    "    \n",
    "    return lang"
   ]
  },
  {
   "cell_type": "code",
   "execution_count": 13,
   "metadata": {},
   "outputs": [
    {
     "name": "stdout",
     "output_type": "stream",
     "text": [
      "<start> मित्रं नेहमीच एकमेकांची मदत करायला राजी असतात <end>\n",
      "<start> elon musk built the tesla and spacex <end>\n"
     ]
    }
   ],
   "source": [
    "sample_mar = preprocessing_sentences(\"मित्रं नेहमीच एकमेकांची मदत करायला राजी असतात.\")\n",
    "sample_eng = preprocessing_sentences(\"Elon musk built the Tesla and SpaceX\")\n",
    "print(sample_mar)\n",
    "print(sample_eng)"
   ]
  },
  {
   "cell_type": "code",
   "execution_count": 14,
   "metadata": {},
   "outputs": [],
   "source": [
    "def create_data(text, num_examples):\n",
    "    file = open(text, encoding = \"utf-8\").read().strip().split(\"\\n\")\n",
    "    \n",
    "    word_pairs = [[preprocessing_sentences(x) for x in l.split(\"\\t\")] for l in file[:num_examples]]\n",
    "    \n",
    "    return zip(*word_pairs)"
   ]
  },
  {
   "cell_type": "code",
   "execution_count": 15,
   "metadata": {},
   "outputs": [],
   "source": [
    "eng, mar = create_data(path_to_file, None)"
   ]
  },
  {
   "cell_type": "code",
   "execution_count": 16,
   "metadata": {},
   "outputs": [
    {
     "name": "stdout",
     "output_type": "stream",
     "text": [
      "Total number of examples in English : 33725\n",
      "Total number of examples in Marathi : 33725\n"
     ]
    }
   ],
   "source": [
    "print(f\"Total number of examples in English : {len(eng)}\")\n",
    "print(f\"Total number of examples in Marathi : {len(mar)}\")"
   ]
  },
  {
   "cell_type": "code",
   "execution_count": 17,
   "metadata": {},
   "outputs": [
    {
     "name": "stdout",
     "output_type": "stream",
     "text": [
      "('<start> go <end>', '<start> run <end>', '<start> run <end>', '<start> run <end>', '<start> run <end>')\n",
      "----------------------------------------------------------------------------------------------------\n",
      "('<start> जा <end>', '<start> पळ <end>', '<start> धाव <end>', '<start> पळा <end>', '<start> धावा <end>')\n"
     ]
    }
   ],
   "source": [
    "print(eng[:5])\n",
    "print(100 * \"-\")\n",
    "print(mar[:5])"
   ]
  },
  {
   "cell_type": "code",
   "execution_count": 18,
   "metadata": {},
   "outputs": [],
   "source": [
    "#we will have to tokenize the data and transform the sequence of words into sequence of integers\n",
    "from tensorflow.keras.preprocessing.text import Tokenizer\n",
    "from tensorflow.keras.preprocessing.sequence import pad_sequences\n",
    "\n",
    "def tokenize(text):\n",
    "    \n",
    "    tokens = Tokenizer(filters = \"\")\n",
    "    \n",
    "    tokens.fit_on_texts(text)\n",
    "    \n",
    "    sequences = tokens.texts_to_sequences(text)\n",
    "    \n",
    "    padded_seq = pad_sequences(sequences, padding = \"post\")\n",
    "    \n",
    "    return padded_seq, tokens"
   ]
  },
  {
   "cell_type": "code",
   "execution_count": 20,
   "metadata": {},
   "outputs": [],
   "source": [
    "def load_data(text, num_examples):\n",
    "    \n",
    "    input_eng, output_mar = create_data(text, num_examples)\n",
    "    \n",
    "    eng_padded, eng_tokens = tokenize(input_eng)\n",
    "    mar_padded, mar_tokens = tokenize(output_mar)\n",
    "    \n",
    "    return eng_padded, mar_padded, eng_tokens, mar_tokens"
   ]
  },
  {
   "cell_type": "code",
   "execution_count": 21,
   "metadata": {},
   "outputs": [],
   "source": [
    "eng_padded, mar_padded, eng_tokens, mar_tokens = load_data(path_to_file, num_examples = 20000)"
   ]
  },
  {
   "cell_type": "code",
   "execution_count": 22,
   "metadata": {},
   "outputs": [
    {
     "name": "stdout",
     "output_type": "stream",
     "text": [
      "The size of the english vocab is : (20000, 10)\n",
      "The size of the marathi vocab is : (20000, 11)\n"
     ]
    }
   ],
   "source": [
    "#let's check the shape of our input(english) and output(marathi) data\n",
    "print(f\"The size of the english vocab is : {eng_padded.shape}\")\n",
    "print(f\"The size of the marathi vocab is : {mar_padded.shape}\")"
   ]
  },
  {
   "cell_type": "code",
   "execution_count": 23,
   "metadata": {},
   "outputs": [],
   "source": [
    "#checking the maximum length of the sequence in the english and marathi sequences\n",
    "def max_length(text):\n",
    "    return max(len(x) for x in text)"
   ]
  },
  {
   "cell_type": "code",
   "execution_count": 24,
   "metadata": {},
   "outputs": [
    {
     "name": "stdout",
     "output_type": "stream",
     "text": [
      "The maximum length of the sequence in english : 10\n",
      "The maximum length of the sequence in marathi : 11\n"
     ]
    }
   ],
   "source": [
    "max_eng_length = max_length(eng_padded)\n",
    "max_mar_length = max_length(mar_padded)\n",
    "print(f\"The maximum length of the sequence in english : {max_eng_length}\")\n",
    "print(f\"The maximum length of the sequence in marathi : {max_mar_length}\")"
   ]
  },
  {
   "cell_type": "code",
   "execution_count": 25,
   "metadata": {},
   "outputs": [
    {
     "name": "stdout",
     "output_type": "stream",
     "text": [
      "The word to index mapping for english : \n",
      "[('<start>', 1), ('<end>', 2), ('i', 3), ('tom', 4), ('you', 5), ('is', 6), ('a', 7), ('the', 8), ('to', 9), ('he', 10)]\n",
      "------------------------------------------------------------------------------------------------------------------------\n",
      "The word to index mapping for marathi : \n",
      "[('<start>', 1), ('<end>', 2), ('आहे', 3), ('मी', 4), ('का', 5), ('मला', 6), ('टॉम', 7), ('ते', 8), ('नाही', 9), ('आहेत', 10)]\n"
     ]
    }
   ],
   "source": [
    "#check the dictionery for the word_index for both marathi and english\n",
    "print(f\"The word to index mapping for english : \\n{list(eng_tokens.word_index.items())[:10]}\")\n",
    "print(120 * \"-\")\n",
    "print(f\"The word to index mapping for marathi : \\n{list(mar_tokens.word_index.items())[:10]}\")"
   ]
  },
  {
   "cell_type": "code",
   "execution_count": 26,
   "metadata": {},
   "outputs": [],
   "source": [
    "#split the data into training and validation\n",
    "from sklearn.model_selection import train_test_split\n",
    "\n",
    "eng_train, eng_val, mar_train, mar_val = train_test_split(eng_padded, mar_padded, test_size = 0.2, random_state = 101)"
   ]
  },
  {
   "cell_type": "code",
   "execution_count": 27,
   "metadata": {},
   "outputs": [
    {
     "name": "stdout",
     "output_type": "stream",
     "text": [
      "The shape of the training english data is : (16000, 10)\n",
      "The shape of the validation english data is : (4000, 10)\n",
      "The shape of the training marathi data is : (16000, 11)\n",
      "The shape of the validation marathi data is : (4000, 11)\n"
     ]
    }
   ],
   "source": [
    "#let's check the the sizes of our training and vaidation sets\n",
    "print(f\"The shape of the training english data is : {eng_train.shape}\")\n",
    "print(f\"The shape of the validation english data is : {eng_val.shape}\")\n",
    "print(f\"The shape of the training marathi data is : {mar_train.shape}\")\n",
    "print(f\"The shape of the validation marathi data is : {mar_val.shape}\")"
   ]
  },
  {
   "cell_type": "markdown",
   "metadata": {},
   "source": [
    "##### CREATING THE DATASET USING tf.data.Dataset"
   ]
  },
  {
   "cell_type": "code",
   "execution_count": 28,
   "metadata": {},
   "outputs": [],
   "source": [
    "BUFFER_SIZE = len(eng_train)\n",
    "BATCH_SIZE = 64\n",
    "EMBEDDING_DIM = 256\n",
    "UNITS = 1024\n",
    "steps_per_epoch = len(eng_train)//BATCH_SIZE\n",
    "\n",
    "eng_vocab_size = len(eng_tokens.word_index) + 1 \n",
    "mar_vocab_size = len(mar_tokens.word_index) + 1\n",
    "\n",
    "dataset = tf.data.Dataset.from_tensor_slices((eng_train, mar_train)).shuffle(BUFFER_SIZE)\n",
    "dataset = dataset.batch(BATCH_SIZE, drop_remainder = True)"
   ]
  },
  {
   "cell_type": "code",
   "execution_count": 29,
   "metadata": {},
   "outputs": [
    {
     "name": "stdout",
     "output_type": "stream",
     "text": [
      "(64, 10)\n",
      "(64, 11)\n"
     ]
    }
   ],
   "source": [
    "sample_eng_batch, sample_mar_batch = next(iter(dataset))\n",
    "print(sample_eng_batch.shape)\n",
    "print(sample_mar_batch.shape)"
   ]
  },
  {
   "cell_type": "markdown",
   "metadata": {},
   "source": [
    "### ENCODER - DECODER MODEL"
   ]
  },
  {
   "cell_type": "markdown",
   "metadata": {},
   "source": [
    "##### 1. ENCODER MODEL"
   ]
  },
  {
   "cell_type": "code",
   "execution_count": 30,
   "metadata": {},
   "outputs": [],
   "source": [
    "from tensorflow.keras.layers import Embedding\n",
    "from tensorflow.keras.layers import LSTM, GRU\n",
    "from tensorflow.keras.layers import Dense\n",
    "\n",
    "from tensorflow.keras.optimizers import Adam\n",
    "from tensorflow.keras.losses import SparseCategoricalCrossentropy"
   ]
  },
  {
   "cell_type": "code",
   "execution_count": 31,
   "metadata": {},
   "outputs": [],
   "source": [
    "class Encoder_Model(tf.keras.Model):\n",
    "    def __init__(self, vocab_size, embedding_dim, encoding_units, batch_size):\n",
    "        super(Encoder_Model, self).__init__()\n",
    "        \n",
    "        self.encoding_units = encoding_units\n",
    "        \n",
    "        self.batch_size = batch_size\n",
    "        \n",
    "        self.embedding = Embedding(input_dim = vocab_size, output_dim = embedding_dim)\n",
    "        \n",
    "        self.gru = GRU(self.encoding_units, \n",
    "                       return_sequences = True, \n",
    "                       recurrent_initializer = \"glorot_uniform\", \n",
    "                       return_state = True)\n",
    "        \n",
    "    def call(self, x, hidden):\n",
    "        \n",
    "        x = self.embedding(x)\n",
    "        \n",
    "        output, state = self.gru(x, initial_state = hidden)\n",
    "        \n",
    "        return output, state\n",
    "\n",
    "    def initialize_hidden_state(self):\n",
    "        return tf.zeros((self.batch_size, self.encoding_units))"
   ]
  },
  {
   "cell_type": "code",
   "execution_count": 32,
   "metadata": {},
   "outputs": [
    {
     "name": "stdout",
     "output_type": "stream",
     "text": [
      "The shape of the input sequence to the encoder is : (64, 10)\n",
      "The shape of the encoder output is : (64, 10, 1024)\n",
      "The shape of the encoder hidden state is : (64, 1024)\n"
     ]
    }
   ],
   "source": [
    "encoder = Encoder_Model(eng_vocab_size, EMBEDDING_DIM, UNITS, BATCH_SIZE)\n",
    "\n",
    "#checking the encoder function on the sample batches\n",
    "sample_hidden = encoder.initialize_hidden_state()\n",
    "sample_eng, sample_hidden = encoder(sample_eng_batch, sample_hidden)\n",
    "\n",
    "#the input to the encoder if of size ---> [batch_size, sequence_length]\n",
    "print(f\"The shape of the input sequence to the encoder is : {sample_eng_batch.shape}\")\n",
    "\n",
    "#the shape of the output of the encoder is -----> [batch_size, sequence_length, hidden_units]\n",
    "print(f\"The shape of the encoder output is : {sample_eng.shape}\")\n",
    "\n",
    "#the shape of the encoder hidden state is -----> [batch_size, hidden_units]\n",
    "print(f\"The shape of the encoder hidden state is : {sample_hidden.shape}\")"
   ]
  },
  {
   "cell_type": "markdown",
   "metadata": {},
   "source": [
    "##### 2. ATTENTION MECHANISM"
   ]
  },
  {
   "cell_type": "code",
   "execution_count": 33,
   "metadata": {},
   "outputs": [],
   "source": [
    "class BahdanauAttention(tf.keras.Model):\n",
    "    def __init__(self, units):\n",
    "        super(BahdanauAttention, self).__init__()\n",
    "        \n",
    "        self.W1 = Dense(units)\n",
    "        self.W2 = Dense(units)\n",
    "        self.V = Dense(1)\n",
    "        \n",
    "    def call(self, query, values):\n",
    "        # hidden shape == (batch_size, hidden size)\n",
    "        # hidden_with_time_axis shape == (batch_size, 1, hidden size)\n",
    "        # we are doing this to perform addition to calculate the score\n",
    "        hidden_with_time_axis = tf.expand_dims(query, 1)\n",
    "\n",
    "        # score shape == (batch_size, max_length, hidden_size)\n",
    "        score = self.V(tf.nn.tanh(self.W1(values) + self.W2(hidden_with_time_axis)))\n",
    "\n",
    "        # attention_weights shape == (batch_size, max_length, 1)\n",
    "        # we get 1 at the last axis because we are applying score to self.V\n",
    "        attention_weights = tf.nn.softmax(score, axis = 1)\n",
    "\n",
    "        # context_vector shape after sum == (batch_size, hidden_size)\n",
    "        context_vector = attention_weights * values\n",
    "        context_vector = tf.reduce_sum(context_vector, axis = 1)\n",
    "\n",
    "        return context_vector, attention_weights"
   ]
  },
  {
   "cell_type": "code",
   "execution_count": 34,
   "metadata": {},
   "outputs": [
    {
     "name": "stdout",
     "output_type": "stream",
     "text": [
      "Attention result shape: (batch size, units) (64, 1024)\n",
      "Attention weights shape: (batch_size, sequence_length, 1) (64, 10, 1)\n"
     ]
    }
   ],
   "source": [
    "attention_layer = BahdanauAttention(10)\n",
    "attention_result, attention_weights = attention_layer(sample_hidden, sample_eng)\n",
    "\n",
    "print(\"Attention result shape: (batch size, units) {}\".format(attention_result.shape))\n",
    "print(\"Attention weights shape: (batch_size, sequence_length, 1) {}\".format(attention_weights.shape))"
   ]
  },
  {
   "cell_type": "markdown",
   "metadata": {},
   "source": [
    "##### 3. DECODER MODEL"
   ]
  },
  {
   "cell_type": "code",
   "execution_count": 35,
   "metadata": {},
   "outputs": [],
   "source": [
    "class Decoder_Model(tf.keras.Model):\n",
    "    def __init__(self, vocab_size, embedding_dim, decoding_units, batch_size):\n",
    "        super(Decoder_Model, self).__init__()\n",
    "        \n",
    "        self.decoding_units = decoding_units\n",
    "        \n",
    "        self.embedding = Embedding(input_dim = vocab_size, output_dim = embedding_dim)\n",
    "        \n",
    "        self.gru = GRU(self.decoding_units, \n",
    "                       return_sequences = True, \n",
    "                       return_state = True, \n",
    "                       recurrent_initializer = \"glorot_uniform\")\n",
    "        \n",
    "        self.fc = Dense(vocab_size)\n",
    "        \n",
    "        self.attention = BahdanauAttention(self.decoding_units)\n",
    "    \n",
    "    def call(self, x, hidden, encoding_output):\n",
    "        \n",
    "        x = self.embedding(x)\n",
    "        \n",
    "        context_vector, attention_weights = self.attention(hidden, encoding_output)\n",
    "        \n",
    "        x = tf.concat([tf.expand_dims(context_vector, axis = 1), x], axis = -1)\n",
    "        \n",
    "        output, state = self.gru(x)\n",
    "        \n",
    "        output = tf.reshape(output, (-1, output.shape[2]))\n",
    "        \n",
    "        x = self.fc(output)\n",
    "        \n",
    "        return x, state, attention_weights"
   ]
  },
  {
   "cell_type": "code",
   "execution_count": 36,
   "metadata": {},
   "outputs": [],
   "source": [
    "#instantiate the decoder model\n",
    "decoder = Decoder_Model(mar_vocab_size, EMBEDDING_DIM, UNITS, BATCH_SIZE)"
   ]
  },
  {
   "cell_type": "markdown",
   "metadata": {},
   "source": [
    "##### OPTIMIZER AND LOSS FUNCTION"
   ]
  },
  {
   "cell_type": "code",
   "execution_count": 37,
   "metadata": {},
   "outputs": [],
   "source": [
    "optimizer = Adam()\n",
    "\n",
    "loss = SparseCategoricalCrossentropy(from_logits = True, reduction = 'none')\n",
    "\n",
    "def loss_function(real, pred):\n",
    "    mask = tf.math.logical_not(tf.math.equal(real, 0))\n",
    "    loss_ = loss(real, pred)\n",
    "    mask = tf.cast(mask, dtype=loss_.dtype)\n",
    "    loss_ *= mask\n",
    "    return tf.reduce_mean(loss_)"
   ]
  },
  {
   "cell_type": "code",
   "execution_count": 38,
   "metadata": {},
   "outputs": [],
   "source": [
    "checkpoint_dir = './checkpoint_eng_to_mar'\n",
    "checkpoint_prefix = os.path.join(checkpoint_dir, \"ckpt\")\n",
    "checkpoint = tf.train.Checkpoint(optimizer = optimizer, encoder = encoder, decoder = decoder)"
   ]
  },
  {
   "cell_type": "code",
   "execution_count": 39,
   "metadata": {},
   "outputs": [],
   "source": [
    "def train(inp, targ, enc_hidden):\n",
    "\n",
    "    loss = 0\n",
    "    with tf.GradientTape() as tape:\n",
    "    \n",
    "        enc_output, enc_hidden = encoder(inp, enc_hidden)\n",
    "\n",
    "        dec_hidden = enc_hidden\n",
    "\n",
    "        dec_input = tf.expand_dims([mar_tokens.word_index[\"<start>\"]] * BATCH_SIZE, 1)\n",
    "        \n",
    "        for i in range(1, targ.shape[1]):\n",
    "            \n",
    "            predictions, dec_hidden, _ = decoder(dec_input, dec_hidden, enc_output)\n",
    "        \n",
    "            loss += loss_function(targ[:, i], predictions)\n",
    "            \n",
    "            # using teacher forcing\n",
    "            dec_input = tf.expand_dims(targ[:, i], 1)\n",
    "\n",
    "    batch_loss = (loss / int(targ.shape[1]))\n",
    "\n",
    "    variables = encoder.trainable_variables + decoder.trainable_variables\n",
    "\n",
    "    gradients = tape.gradient(loss, variables)\n",
    "\n",
    "    optimizer.apply_gradients(zip(gradients, variables))\n",
    "\n",
    "    return batch_loss"
   ]
  },
  {
   "cell_type": "code",
   "execution_count": 40,
   "metadata": {},
   "outputs": [
    {
     "data": {
      "application/vnd.jupyter.widget-view+json": {
       "model_id": "a8dac99dfe9f4476bc0ccc5302afb2b6",
       "version_major": 2,
       "version_minor": 0
      },
      "text/plain": [
       "HBox(children=(IntProgress(value=0, max=10), HTML(value='')))"
      ]
     },
     "metadata": {},
     "output_type": "display_data"
    },
    {
     "name": "stdout",
     "output_type": "stream",
     "text": [
      "Epoch 1 Batch 0 Loss 3.8761\n",
      "Epoch 1 Batch 100 Loss 2.3383\n",
      "Epoch 1 Batch 200 Loss 2.2231\n",
      "Epoch 1 Loss 2.3677\n",
      "Time taken for 1 epoch 315.53426718711853 sec\n",
      "\n",
      "Epoch 2 Batch 0 Loss 2.1668\n",
      "Epoch 2 Batch 100 Loss 1.9457\n",
      "Epoch 2 Batch 200 Loss 1.8258\n",
      "Epoch 2 Loss 1.9063\n",
      "Time taken for 1 epoch 325.889004945755 sec\n",
      "\n",
      "Epoch 3 Batch 0 Loss 1.7825\n",
      "Epoch 3 Batch 100 Loss 1.5324\n",
      "Epoch 3 Batch 200 Loss 1.4208\n",
      "Epoch 3 Loss 1.5186\n",
      "Time taken for 1 epoch 336.9461793899536 sec\n",
      "\n",
      "Epoch 4 Batch 0 Loss 1.4241\n",
      "Epoch 4 Batch 100 Loss 1.1468\n",
      "Epoch 4 Batch 200 Loss 1.0328\n",
      "Epoch 4 Loss 1.1342\n",
      "Time taken for 1 epoch 347.48666644096375 sec\n",
      "\n",
      "Epoch 5 Batch 0 Loss 0.9847\n",
      "Epoch 5 Batch 100 Loss 0.7690\n",
      "Epoch 5 Batch 200 Loss 0.6856\n",
      "Epoch 5 Loss 0.7860\n",
      "Time taken for 1 epoch 349.0628798007965 sec\n",
      "\n",
      "Epoch 6 Batch 0 Loss 0.6504\n",
      "Epoch 6 Batch 100 Loss 0.5203\n",
      "Epoch 6 Batch 200 Loss 0.4471\n",
      "Epoch 6 Loss 0.5268\n",
      "Time taken for 1 epoch 366.3266944885254 sec\n",
      "\n",
      "Epoch 7 Batch 0 Loss 0.4224\n",
      "Epoch 7 Batch 100 Loss 0.3563\n",
      "Epoch 7 Batch 200 Loss 0.3723\n",
      "Epoch 7 Loss 0.3684\n",
      "Time taken for 1 epoch 354.2618443965912 sec\n",
      "\n",
      "Epoch 8 Batch 0 Loss 0.3225\n",
      "Epoch 8 Batch 100 Loss 0.2586\n",
      "Epoch 8 Batch 200 Loss 0.2439\n",
      "Epoch 8 Loss 0.2767\n",
      "Time taken for 1 epoch 359.67251896858215 sec\n",
      "\n",
      "Epoch 9 Batch 0 Loss 0.2475\n",
      "Epoch 9 Batch 100 Loss 0.2157\n",
      "Epoch 9 Batch 200 Loss 0.2259\n",
      "Epoch 9 Loss 0.2198\n",
      "Time taken for 1 epoch 358.8192539215088 sec\n",
      "\n",
      "Epoch 10 Batch 0 Loss 0.2204\n",
      "Epoch 10 Batch 100 Loss 0.1882\n",
      "Epoch 10 Batch 200 Loss 0.1783\n",
      "Epoch 10 Loss 0.1824\n",
      "Time taken for 1 epoch 356.4124345779419 sec\n",
      "\n",
      "\n"
     ]
    }
   ],
   "source": [
    "EPOCHS = 10\n",
    "\n",
    "for epoch in tqdm_notebook(range(EPOCHS)):\n",
    "    start = time.time()\n",
    "    enc_hidden = encoder.initialize_hidden_state()\n",
    "    total_loss = 0\n",
    "    \n",
    "    for (batch, (inp, targ)) in enumerate(dataset.take(steps_per_epoch)):\n",
    "        batch_loss = train(inp, targ, enc_hidden)\n",
    "        total_loss += batch_loss\n",
    "\n",
    "        if batch % 100 == 0:\n",
    "            print('Epoch {} Batch {} Loss {:.4f}'.format(epoch + 1, batch, batch_loss.numpy()))\n",
    "    # saving (checkpoint) the model every 2 epochs\n",
    "    if (epoch + 1) % 2 == 0:\n",
    "        checkpoint.save(file_prefix = checkpoint_prefix)\n",
    "        \n",
    "    \n",
    "    print('Epoch {} Loss {:.4f}'.format(epoch + 1, total_loss / steps_per_epoch))\n",
    "    \n",
    "    print('Time taken for 1 epoch {} sec\\n'.format(time.time() - start))"
   ]
  },
  {
   "cell_type": "code",
   "execution_count": 51,
   "metadata": {},
   "outputs": [],
   "source": [
    "def evaluate(sentence):\n",
    "    attention_plot = np.zeros((max_mar_length, max_eng_length))\n",
    "\n",
    "    sentence = preprocessing_sentences(sentence)\n",
    "\n",
    "    inputs = [eng_tokens.word_index[i] for i in sentence.split(' ')]\n",
    "    inputs = pad_sequences([inputs], maxlen = max_eng_length, padding = 'post')\n",
    "    inputs = tf.convert_to_tensor(inputs)\n",
    "\n",
    "    result = ''\n",
    "\n",
    "    hidden = [tf.zeros((1, UNITS))]\n",
    "    enc_output, enc_hidden = encoder(inputs, hidden)\n",
    "\n",
    "    dec_hidden = enc_hidden\n",
    "    dec_input = tf.expand_dims([mar_tokens.word_index['<start>']], 0)\n",
    "\n",
    "    for i in range(max_mar_length):\n",
    "        predictions, dec_hidden, attention_weights = decoder(dec_input, dec_hidden, enc_output)\n",
    "\n",
    "        # storing the attention weights to plot later on\n",
    "        attention_weights = tf.reshape(attention_weights, (-1, ))\n",
    "        attention_plot[i] = attention_weights.numpy()\n",
    "\n",
    "        predicted_id = tf.argmax(predictions[0]).numpy()\n",
    "\n",
    "        result += mar_tokens.index_word[predicted_id] + ' '\n",
    "\n",
    "        if mar_tokens.index_word[predicted_id] == '<end>':\n",
    "            return result, sentence, attention_plot\n",
    "\n",
    "        # the predicted ID is fed back into the model\n",
    "        dec_input = tf.expand_dims([predicted_id], 0)\n",
    "\n",
    "    return result, sentence, attention_plot"
   ]
  },
  {
   "cell_type": "code",
   "execution_count": 52,
   "metadata": {},
   "outputs": [],
   "source": [
    "# function for plotting the attention weights\n",
    "def plot_attention(attention, sentence, predicted_sentence):\n",
    "    fig = plt.figure(figsize = (10,10))\n",
    "    ax = fig.add_subplot(1, 1, 1)\n",
    "    ax.matshow(attention, cmap = 'viridis')\n",
    "\n",
    "    fontdict = {'fontsize': 14}\n",
    "\n",
    "    ax.set_xticklabels([''] + sentence, fontdict = fontdict, rotation = 90)\n",
    "    ax.set_yticklabels([''] + predicted_sentence, fontdict = fontdict)\n",
    "\n",
    "    plt.show()"
   ]
  },
  {
   "cell_type": "code",
   "execution_count": 53,
   "metadata": {},
   "outputs": [],
   "source": [
    "def translate(sentence):\n",
    "    result, sentence, attention_plot = evaluate(sentence)\n",
    "\n",
    "    print('Input: %s' % (sentence))\n",
    "    print('Predicted translation: {}'.format(result))\n",
    "\n",
    "    attention_plot = attention_plot[:len(result.split(' ')), :len(sentence.split(' '))]\n",
    "    plot_attention(attention_plot, sentence.split(' '), result.split(' '))"
   ]
  },
  {
   "cell_type": "code",
   "execution_count": 54,
   "metadata": {},
   "outputs": [
    {
     "data": {
      "text/plain": [
       "<tensorflow.python.training.tracking.util.CheckpointLoadStatus at 0x264f48df588>"
      ]
     },
     "execution_count": 54,
     "metadata": {},
     "output_type": "execute_result"
    }
   ],
   "source": [
    "# restoring the latest checkpoint in checkpoint_dir\n",
    "checkpoint.restore(tf.train.latest_checkpoint(checkpoint_dir))"
   ]
  },
  {
   "cell_type": "code",
   "execution_count": 55,
   "metadata": {},
   "outputs": [
    {
     "name": "stdout",
     "output_type": "stream",
     "text": [
      "Input: <start> how are you <end>\n",
      "Predicted translation: कशी आहेस <end> \n"
     ]
    },
    {
     "data": {
      "image/png": "[encoded data removed]",
      "text/plain": [
       "<Figure size 720x720 with 1 Axes>"
      ]
     },
     "metadata": {
      "needs_background": "light"
     },
     "output_type": "display_data"
    }
   ],
   "source": [
    "#making translations\n",
    "translate(u'How are you?')"
   ]
  },
  {
   "cell_type": "code",
   "execution_count": 56,
   "metadata": {},
   "outputs": [
    {
     "name": "stdout",
     "output_type": "stream",
     "text": [
      "Input: <start> what is your name <end>\n",
      "Predicted translation: तुझं नाव काय आहे <end> \n"
     ]
    },
    {
     "data": {
      "image/png": "[encoded data removed]",
      "text/plain": [
       "<Figure size 720x720 with 1 Axes>"
      ]
     },
     "metadata": {
      "needs_background": "light"
     },
     "output_type": "display_data"
    }
   ],
   "source": [
    "translate(\"WHAT IS YOUR NAME?\")"
   ]
  },
  {
   "cell_type": "code",
   "execution_count": 58,
   "metadata": {},
   "outputs": [
    {
     "name": "stdout",
     "output_type": "stream",
     "text": [
      "Input: <start> i love you <end>\n",
      "Predicted translation: मला तू खरच प्रेम आहे <end> \n"
     ]
    },
    {
     "data": {
      "image/png": "[encoded data removed]",
      "text/plain": [
       "<Figure size 720x720 with 1 Axes>"
      ]
     },
     "metadata": {
      "needs_background": "light"
     },
     "output_type": "display_data"
    }
   ],
   "source": [
    "translate(\"I love you.\")"
   ]
  }
 ],
 "metadata": {
  "kernelspec": {
   "display_name": "Python 3",
   "language": "python",
   "name": "python3"
  },
  "language_info": {
   "codemirror_mode": {
    "name": "ipython",
    "version": 3
   },
   "file_extension": ".py",
   "mimetype": "text/x-python",
   "name": "python",
   "nbconvert_exporter": "python",
   "pygments_lexer": "ipython3",
   "version": "3.6.5"
  }
 },
 "nbformat": 4,
 "nbformat_minor": 2
}
